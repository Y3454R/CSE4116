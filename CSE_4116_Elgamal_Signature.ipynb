{
  "nbformat": 4,
  "nbformat_minor": 0,
  "metadata": {
    "colab": {
      "name": "CSE 4116 Elgamal Signature.ipynb",
      "provenance": [],
      "collapsed_sections": []
    },
    "kernelspec": {
      "name": "python3",
      "display_name": "Python 3"
    },
    "language_info": {
      "name": "python"
    }
  },
  "cells": [
    {
      "cell_type": "code",
      "execution_count": null,
      "metadata": {
        "colab": {
          "base_uri": "https://localhost:8080/"
        },
        "id": "Yz8DrnLwyCkb",
        "outputId": "0a83e8b0-1a7f-4f27-c2c6-20ae884181d6"
      },
      "outputs": [
        {
          "output_type": "stream",
          "name": "stdout",
          "text": [
            "Looking in indexes: https://pypi.org/simple, https://us-python.pkg.dev/colab-wheels/public/simple/\n",
            "Collecting pycrypto\n",
            "  Downloading pycrypto-2.6.1.tar.gz (446 kB)\n",
            "\u001b[K     |████████████████████████████████| 446 kB 28.9 MB/s \n",
            "\u001b[?25hBuilding wheels for collected packages: pycrypto\n",
            "  Building wheel for pycrypto (setup.py) ... \u001b[?25l\u001b[?25hdone\n",
            "  Created wheel for pycrypto: filename=pycrypto-2.6.1-cp37-cp37m-linux_x86_64.whl size=499932 sha256=b75b314b049afef517d3b9aa6f8fa86f65809f7747cb7b224dfaa1f03d0e58f5\n",
            "  Stored in directory: /root/.cache/pip/wheels/cf/85/ba/bbd7c96add459de7598fb424e5ff2309baf2095c844ac0f191\n",
            "Successfully built pycrypto\n",
            "Installing collected packages: pycrypto\n",
            "Successfully installed pycrypto-2.6.1\n"
          ]
        }
      ],
      "source": [
        "pip install pycrypto"
      ]
    },
    {
      "cell_type": "code",
      "source": [
        "import Crypto.Util.number as num\n",
        "import random\n",
        "from math import sqrt\n",
        "\n",
        "def isPrime(n):\n",
        "    if (n <= 1):\n",
        "        return False\n",
        "    if (n <= 3):\n",
        "        return True\n",
        "\n",
        "    if (n % 2 == 0 or n % 3 == 0):\n",
        "        return False\n",
        "    i = 5\n",
        "    while (i * i <= n):\n",
        "        if (n % i == 0 or n % (i + 2) == 0):\n",
        "            return False\n",
        "        i = i + 6\n",
        "\n",
        "    return True\n",
        "\n",
        "\n",
        "def power(x, y, p):\n",
        "    res = 1 \n",
        "\n",
        "    x = x % p \n",
        "\n",
        "    while (y > 0):\n",
        "\n",
        "        if (y & 1):\n",
        "            res = (res * x) % p\n",
        "\n",
        "        y = y >> 1  # y = y/2\n",
        "        x = (x * x) % p\n",
        "\n",
        "    return res\n",
        "\n",
        "\n",
        "def findPrimefactors(s, n):\n",
        "    \n",
        "    while (n % 2 == 0):\n",
        "        s.add(2)\n",
        "        n = n // 2\n",
        "\n",
        "    for i in range(3, int(sqrt(n)), 2):\n",
        "\n",
        "        while (n % i == 0):\n",
        "            s.add(i)\n",
        "            n = n // i\n",
        "\n",
        "    if (n > 2):\n",
        "        s.add(n)\n",
        "\n",
        "\n",
        "\n",
        "def findPrimitive(n):\n",
        "    s = set()\n",
        "\n",
        "    if (isPrime(n) == False):\n",
        "        return -1\n",
        "\n",
        "    phi = n - 1\n",
        "\n",
        "    findPrimefactors(s, phi)\n",
        "\n",
        "    for r in range(2, phi + 1):\n",
        "\n",
        "      \n",
        "        flag = False\n",
        "        for it in s:\n",
        "\n",
        "            if (power(r, phi // it, n) == 1):\n",
        "                flag = True\n",
        "                break\n",
        "\n",
        "        if (flag == False):\n",
        "            return r\n",
        "            \n",
        "    return -1\n",
        "\n",
        "\n",
        "def egKey(s):\n",
        "    p = 1000000007\n",
        "    a = findPrimitive(p);\n",
        "    x = random.randint(1, p - 2)\n",
        "    y = pow(a, x, p)\n",
        "    return p, a, x, y\n",
        "\n",
        "\n",
        "#Signature Generation \n",
        "\n",
        "\n",
        "def sigGen(p, a, x, m):\n",
        "    while 1:\n",
        "        k = random.randint(1, p - 2)\n",
        "        if num.GCD(k, p - 1) == 1:\n",
        "            break\n",
        "    r = pow(a, k, p)\n",
        "    l = num.inverse(k, p - 1)\n",
        "    s = l * (m - x * r) % (p - 1)\n",
        "    return r, s\n",
        "\n",
        "\n",
        "#Signature verification\n",
        "\n",
        "\n",
        "def sigVer(p, a, y, r, s, m):\n",
        "    if (r < 1 or r > p - 1):\n",
        "      return False\n",
        "    v1 = pow(y, r, p) % p * pow(r, s, p) % p\n",
        "    v2 = pow(a, m, p)\n",
        "    print(\"v1: \", v1)\n",
        "    print(\"v2: \", v2)\n",
        "    return v1 == v2\n",
        "\n",
        "\n",
        "message = 545\n",
        "print (\"Message: \", message)\n",
        "prime, alpha, private, public = egKey(10)\n",
        "print (\"prime,alpha,private,public: \", prime, alpha, private, public)\n",
        "y1, y2 = sigGen(prime, alpha, private, message)\n",
        "print (\"y1, y2: \", y1, y2)\n",
        "isValid = sigVer(prime, alpha, public, y1, y2, message)\n",
        "print (\"Valid Signature: \", isValid)"
      ],
      "metadata": {
        "colab": {
          "base_uri": "https://localhost:8080/"
        },
        "id": "mxN5tN49yMOv",
        "outputId": "6a2d48ed-18d0-449a-b29a-5e47dc2ea4a2"
      },
      "execution_count": null,
      "outputs": [
        {
          "output_type": "stream",
          "name": "stdout",
          "text": [
            "Message:  545\n",
            "prime,alpha,private,public:  1000000007 5 79703667 929329545\n",
            "y1, y2:  363386094 169790273\n",
            "v1:  104757393\n",
            "v2:  104757393\n",
            "Valid Signature:  True\n"
          ]
        }
      ]
    }
  ]
}